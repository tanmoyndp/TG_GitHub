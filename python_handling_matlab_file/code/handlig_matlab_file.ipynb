{
 "cells": [
  {
   "cell_type": "code",
   "execution_count": 1,
   "metadata": {},
   "outputs": [],
   "source": [
    "import scipy.io\n",
    "mat = scipy.io.loadmat('../data/tasmax_tasmin_imd_1951_2020.mat')"
   ]
  },
  {
   "cell_type": "code",
   "execution_count": 2,
   "metadata": {
    "scrolled": true
   },
   "outputs": [
    {
     "data": {
      "text/plain": [
       "{'__header__': b'MATLAB 5.0 MAT-file, Platform: PCWIN64, Created on: Mon Jul 26 19:02:44 2021',\n",
       " '__version__': '1.0',\n",
       " '__globals__': [],\n",
       " 'tasmax_imd_1951_2020': array([[[99.9, 99.9, 99.9, ..., 99.9, 99.9, 99.9],\n",
       "         [99.9, 99.9, 99.9, ..., 99.9, 99.9, 99.9],\n",
       "         [99.9, 99.9, 99.9, ..., 99.9, 99.9, 99.9],\n",
       "         ...,\n",
       "         [99.9, 99.9, 99.9, ..., 99.9, 99.9, 99.9],\n",
       "         [99.9, 99.9, 99.9, ..., 99.9, 99.9, 99.9],\n",
       "         [99.9, 99.9, 99.9, ..., 99.9, 99.9, 99.9]],\n",
       " \n",
       "        [[99.9, 99.9, 99.9, ..., 99.9, 99.9, 99.9],\n",
       "         [99.9, 99.9, 99.9, ..., 99.9, 99.9, 99.9],\n",
       "         [99.9, 99.9, 99.9, ..., 99.9, 99.9, 99.9],\n",
       "         ...,\n",
       "         [99.9, 99.9, 99.9, ..., 99.9, 99.9, 99.9],\n",
       "         [99.9, 99.9, 99.9, ..., 99.9, 99.9, 99.9],\n",
       "         [99.9, 99.9, 99.9, ..., 99.9, 99.9, 99.9]],\n",
       " \n",
       "        [[99.9, 99.9, 99.9, ..., 99.9, 99.9, 99.9],\n",
       "         [99.9, 99.9, 99.9, ..., 99.9, 99.9, 99.9],\n",
       "         [99.9, 99.9, 99.9, ..., 99.9, 99.9, 99.9],\n",
       "         ...,\n",
       "         [99.9, 99.9, 99.9, ..., 99.9, 99.9, 99.9],\n",
       "         [99.9, 99.9, 99.9, ..., 99.9, 99.9, 99.9],\n",
       "         [99.9, 99.9, 99.9, ..., 99.9, 99.9, 99.9]],\n",
       " \n",
       "        ...,\n",
       " \n",
       "        [[ nan,  nan,  nan, ...,  nan,  nan,  nan],\n",
       "         [ nan,  nan,  nan, ...,  nan,  nan,  nan],\n",
       "         [ nan,  nan,  nan, ...,  nan,  nan,  nan],\n",
       "         ...,\n",
       "         [ nan,  nan,  nan, ...,  nan,  nan,  nan],\n",
       "         [ nan,  nan,  nan, ...,  nan,  nan,  nan],\n",
       "         [ nan,  nan,  nan, ...,  nan,  nan,  nan]],\n",
       " \n",
       "        [[ nan,  nan,  nan, ...,  nan,  nan,  nan],\n",
       "         [ nan,  nan,  nan, ...,  nan,  nan,  nan],\n",
       "         [ nan,  nan,  nan, ...,  nan,  nan,  nan],\n",
       "         ...,\n",
       "         [ nan,  nan,  nan, ...,  nan,  nan,  nan],\n",
       "         [ nan,  nan,  nan, ...,  nan,  nan,  nan],\n",
       "         [ nan,  nan,  nan, ...,  nan,  nan,  nan]],\n",
       " \n",
       "        [[ nan,  nan,  nan, ...,  nan,  nan,  nan],\n",
       "         [ nan,  nan,  nan, ...,  nan,  nan,  nan],\n",
       "         [ nan,  nan,  nan, ...,  nan,  nan,  nan],\n",
       "         ...,\n",
       "         [ nan,  nan,  nan, ...,  nan,  nan,  nan],\n",
       "         [ nan,  nan,  nan, ...,  nan,  nan,  nan],\n",
       "         [ nan,  nan,  nan, ...,  nan,  nan,  nan]]]),\n",
       " 'tasmin_imd_1951_2020': array([[[99.9, 99.9, 99.9, ..., 99.9, 99.9, 99.9],\n",
       "         [99.9, 99.9, 99.9, ..., 99.9, 99.9, 99.9],\n",
       "         [99.9, 99.9, 99.9, ..., 99.9, 99.9, 99.9],\n",
       "         ...,\n",
       "         [99.9, 99.9, 99.9, ..., 99.9, 99.9, 99.9],\n",
       "         [99.9, 99.9, 99.9, ..., 99.9, 99.9, 99.9],\n",
       "         [99.9, 99.9, 99.9, ..., 99.9, 99.9, 99.9]],\n",
       " \n",
       "        [[99.9, 99.9, 99.9, ..., 99.9, 99.9, 99.9],\n",
       "         [99.9, 99.9, 99.9, ..., 99.9, 99.9, 99.9],\n",
       "         [99.9, 99.9, 99.9, ..., 99.9, 99.9, 99.9],\n",
       "         ...,\n",
       "         [99.9, 99.9, 99.9, ..., 99.9, 99.9, 99.9],\n",
       "         [99.9, 99.9, 99.9, ..., 99.9, 99.9, 99.9],\n",
       "         [99.9, 99.9, 99.9, ..., 99.9, 99.9, 99.9]],\n",
       " \n",
       "        [[99.9, 99.9, 99.9, ..., 99.9, 99.9, 99.9],\n",
       "         [99.9, 99.9, 99.9, ..., 99.9, 99.9, 99.9],\n",
       "         [99.9, 99.9, 99.9, ..., 99.9, 99.9, 99.9],\n",
       "         ...,\n",
       "         [99.9, 99.9, 99.9, ..., 99.9, 99.9, 99.9],\n",
       "         [99.9, 99.9, 99.9, ..., 99.9, 99.9, 99.9],\n",
       "         [99.9, 99.9, 99.9, ..., 99.9, 99.9, 99.9]],\n",
       " \n",
       "        ...,\n",
       " \n",
       "        [[ nan,  nan,  nan, ...,  nan,  nan,  nan],\n",
       "         [ nan,  nan,  nan, ...,  nan,  nan,  nan],\n",
       "         [ nan,  nan,  nan, ...,  nan,  nan,  nan],\n",
       "         ...,\n",
       "         [ nan,  nan,  nan, ...,  nan,  nan,  nan],\n",
       "         [ nan,  nan,  nan, ...,  nan,  nan,  nan],\n",
       "         [ nan,  nan,  nan, ...,  nan,  nan,  nan]],\n",
       " \n",
       "        [[ nan,  nan,  nan, ...,  nan,  nan,  nan],\n",
       "         [ nan,  nan,  nan, ...,  nan,  nan,  nan],\n",
       "         [ nan,  nan,  nan, ...,  nan,  nan,  nan],\n",
       "         ...,\n",
       "         [ nan,  nan,  nan, ...,  nan,  nan,  nan],\n",
       "         [ nan,  nan,  nan, ...,  nan,  nan,  nan],\n",
       "         [ nan,  nan,  nan, ...,  nan,  nan,  nan]],\n",
       " \n",
       "        [[ nan,  nan,  nan, ...,  nan,  nan,  nan],\n",
       "         [ nan,  nan,  nan, ...,  nan,  nan,  nan],\n",
       "         [ nan,  nan,  nan, ...,  nan,  nan,  nan],\n",
       "         ...,\n",
       "         [ nan,  nan,  nan, ...,  nan,  nan,  nan],\n",
       "         [ nan,  nan,  nan, ...,  nan,  nan,  nan],\n",
       "         [ nan,  nan,  nan, ...,  nan,  nan,  nan]]])}"
      ]
     },
     "execution_count": 2,
     "metadata": {},
     "output_type": "execute_result"
    }
   ],
   "source": [
    "mat"
   ]
  },
  {
   "cell_type": "code",
   "execution_count": 3,
   "metadata": {},
   "outputs": [
    {
     "data": {
      "text/plain": [
       "(25568, 31, 31)"
      ]
     },
     "execution_count": 3,
     "metadata": {},
     "output_type": "execute_result"
    }
   ],
   "source": [
    "mat['tasmax_imd_1951_2020'].shape"
   ]
  },
  {
   "cell_type": "code",
   "execution_count": 4,
   "metadata": {},
   "outputs": [],
   "source": [
    "import pandas as pd\n",
    "import numpy as np"
   ]
  },
  {
   "cell_type": "code",
   "execution_count": 5,
   "metadata": {},
   "outputs": [
    {
     "data": {
      "text/plain": [
       "array([ 7.5,  8.5,  9.5, 10.5, 11.5, 12.5, 13.5, 14.5, 15.5, 16.5, 17.5,\n",
       "       18.5, 19.5, 20.5, 21.5, 22.5, 23.5, 24.5, 25.5, 26.5, 27.5, 28.5,\n",
       "       29.5, 30.5, 31.5, 32.5, 33.5, 34.5, 35.5, 36.5, 37.5])"
      ]
     },
     "execution_count": 5,
     "metadata": {},
     "output_type": "execute_result"
    }
   ],
   "source": [
    "# Latitude range\n",
    "np.arange(7.5, 38.5, 1)"
   ]
  },
  {
   "cell_type": "code",
   "execution_count": 6,
   "metadata": {},
   "outputs": [
    {
     "data": {
      "text/plain": [
       "array([67.5, 68.5, 69.5, 70.5, 71.5, 72.5, 73.5, 74.5, 75.5, 76.5, 77.5,\n",
       "       78.5, 79.5, 80.5, 81.5, 82.5, 83.5, 84.5, 85.5, 86.5, 87.5, 88.5,\n",
       "       89.5, 90.5, 91.5, 92.5, 93.5, 94.5, 95.5, 96.5, 97.5])"
      ]
     },
     "execution_count": 6,
     "metadata": {},
     "output_type": "execute_result"
    }
   ],
   "source": [
    "# Longitude range\n",
    "np.arange(67.5, 98.5, 1)"
   ]
  },
  {
   "cell_type": "code",
   "execution_count": 7,
   "metadata": {},
   "outputs": [],
   "source": [
    "# 28.5 N, 78.5 E --> Index is (21, 11)"
   ]
  },
  {
   "cell_type": "code",
   "execution_count": null,
   "metadata": {},
   "outputs": [],
   "source": [
    "# Taking Max Temperatures in a series"
   ]
  },
  {
   "cell_type": "code",
   "execution_count": 24,
   "metadata": {},
   "outputs": [],
   "source": [
    "tasmax_imd_1951_2020_lat21_long11 = mat['tasmax_imd_1951_2020'][:,21,11]"
   ]
  },
  {
   "cell_type": "code",
   "execution_count": 25,
   "metadata": {},
   "outputs": [
    {
     "data": {
      "text/plain": [
       "25568"
      ]
     },
     "execution_count": 25,
     "metadata": {},
     "output_type": "execute_result"
    }
   ],
   "source": [
    "len(tasmax_imd_1951_2020_lat21_long11)"
   ]
  },
  {
   "cell_type": "code",
   "execution_count": 26,
   "metadata": {},
   "outputs": [
    {
     "data": {
      "text/plain": [
       "array([29.52      , 28.41      , 28.04      , ..., 29.83602905,\n",
       "       29.30597496, 28.85953522])"
      ]
     },
     "execution_count": 26,
     "metadata": {},
     "output_type": "execute_result"
    }
   ],
   "source": [
    "tasmax_imd_1951_2020_lat21_long11"
   ]
  },
  {
   "cell_type": "code",
   "execution_count": 27,
   "metadata": {},
   "outputs": [],
   "source": [
    "# Taking Min Temperatures in a series"
   ]
  },
  {
   "cell_type": "code",
   "execution_count": 28,
   "metadata": {},
   "outputs": [],
   "source": [
    "tasmin_imd_1951_2020_lat21_long11 = mat['tasmin_imd_1951_2020'][:,21,11]"
   ]
  },
  {
   "cell_type": "code",
   "execution_count": 29,
   "metadata": {},
   "outputs": [
    {
     "data": {
      "text/plain": [
       "25568"
      ]
     },
     "execution_count": 29,
     "metadata": {},
     "output_type": "execute_result"
    }
   ],
   "source": [
    "len(tasmin_imd_1951_2020_lat21_long11)"
   ]
  },
  {
   "cell_type": "code",
   "execution_count": 30,
   "metadata": {},
   "outputs": [
    {
     "data": {
      "text/plain": [
       "array([16.06      , 14.73      , 13.6       , ..., 15.88205433,\n",
       "       17.06483078, 18.24519348])"
      ]
     },
     "execution_count": 30,
     "metadata": {},
     "output_type": "execute_result"
    }
   ],
   "source": [
    "tasmin_imd_1951_2020_lat21_long11"
   ]
  },
  {
   "cell_type": "code",
   "execution_count": null,
   "metadata": {},
   "outputs": [],
   "source": []
  },
  {
   "cell_type": "code",
   "execution_count": 17,
   "metadata": {},
   "outputs": [],
   "source": [
    "import calendar\n",
    "import datetime"
   ]
  },
  {
   "cell_type": "code",
   "execution_count": 18,
   "metadata": {},
   "outputs": [],
   "source": [
    "df_combined_1951_2020_lat21_long11 = pd.DataFrame()"
   ]
  },
  {
   "cell_type": "code",
   "execution_count": 19,
   "metadata": {},
   "outputs": [],
   "source": [
    "col_year = []\n",
    "col_day_of_year = []\n",
    "\n",
    "for year in range(1951, 2021):\n",
    "    if calendar.isleap(year):\n",
    "        col_year = col_year + [year]*366\n",
    "        col_day_of_year = col_day_of_year + list(range(1, 367))\n",
    "    else:\n",
    "        col_year = col_year + [year]*365\n",
    "        col_day_of_year = col_day_of_year + list(range(1, 366))"
   ]
  },
  {
   "cell_type": "code",
   "execution_count": 31,
   "metadata": {},
   "outputs": [],
   "source": [
    "df_combined_1951_2020_lat21_long11['year'] = col_year\n",
    "df_combined_1951_2020_lat21_long11['day_of_year'] = col_day_of_year\n",
    "df_combined_1951_2020_lat21_long11['max_temp'] = list(tasmax_imd_1951_2020_lat21_long11)\n",
    "df_combined_1951_2020_lat21_long11['min_temp'] = list(tasmin_imd_1951_2020_lat21_long11)"
   ]
  },
  {
   "cell_type": "code",
   "execution_count": 37,
   "metadata": {},
   "outputs": [],
   "source": [
    "df_combined_1951_2020_lat21_long11['date'] = df_combined_1951_2020_lat21_long11.apply(lambda x: \\\n",
    "                                datetime.datetime.strptime('{} {}'.format(int(x.day_of_year), int(x.year)),'%j %Y'), axis=1)"
   ]
  },
  {
   "cell_type": "code",
   "execution_count": 60,
   "metadata": {},
   "outputs": [],
   "source": [
    "df_combined_1951_2020_lat21_long11['month'] = df_combined_1951_2020_lat21_long11['date'].apply(lambda x: x.month)"
   ]
  },
  {
   "cell_type": "code",
   "execution_count": 44,
   "metadata": {},
   "outputs": [],
   "source": [
    "df_combined_1951_2020_lat21_long11 = df_combined_1951_2020_lat21_long11[['year', 'day_of_year', 'date', 'month', 'max_temp', 'min_temp']]"
   ]
  },
  {
   "cell_type": "code",
   "execution_count": 63,
   "metadata": {},
   "outputs": [],
   "source": [
    "df_combined_1951_2020_lat21_long11['diff_max_min'] = df_combined_1951_2020_lat21_long11['max_temp'] - \\\n",
    "                                                             df_combined_1951_2020_lat21_long11['min_temp']    "
   ]
  },
  {
   "cell_type": "code",
   "execution_count": 64,
   "metadata": {},
   "outputs": [
    {
     "data": {
      "text/html": [
       "<div>\n",
       "<style scoped>\n",
       "    .dataframe tbody tr th:only-of-type {\n",
       "        vertical-align: middle;\n",
       "    }\n",
       "\n",
       "    .dataframe tbody tr th {\n",
       "        vertical-align: top;\n",
       "    }\n",
       "\n",
       "    .dataframe thead th {\n",
       "        text-align: right;\n",
       "    }\n",
       "</style>\n",
       "<table border=\"1\" class=\"dataframe\">\n",
       "  <thead>\n",
       "    <tr style=\"text-align: right;\">\n",
       "      <th></th>\n",
       "      <th>year</th>\n",
       "      <th>day_of_year</th>\n",
       "      <th>date</th>\n",
       "      <th>month</th>\n",
       "      <th>max_temp</th>\n",
       "      <th>min_temp</th>\n",
       "      <th>diff_max_min</th>\n",
       "    </tr>\n",
       "  </thead>\n",
       "  <tbody>\n",
       "    <tr>\n",
       "      <th>0</th>\n",
       "      <td>1951</td>\n",
       "      <td>1</td>\n",
       "      <td>1951-01-01</td>\n",
       "      <td>1</td>\n",
       "      <td>29.520000</td>\n",
       "      <td>16.060000</td>\n",
       "      <td>13.460000</td>\n",
       "    </tr>\n",
       "    <tr>\n",
       "      <th>1</th>\n",
       "      <td>1951</td>\n",
       "      <td>2</td>\n",
       "      <td>1951-01-02</td>\n",
       "      <td>1</td>\n",
       "      <td>28.410000</td>\n",
       "      <td>14.730000</td>\n",
       "      <td>13.680000</td>\n",
       "    </tr>\n",
       "    <tr>\n",
       "      <th>2</th>\n",
       "      <td>1951</td>\n",
       "      <td>3</td>\n",
       "      <td>1951-01-03</td>\n",
       "      <td>1</td>\n",
       "      <td>28.040000</td>\n",
       "      <td>13.600000</td>\n",
       "      <td>14.440000</td>\n",
       "    </tr>\n",
       "    <tr>\n",
       "      <th>3</th>\n",
       "      <td>1951</td>\n",
       "      <td>4</td>\n",
       "      <td>1951-01-04</td>\n",
       "      <td>1</td>\n",
       "      <td>28.210000</td>\n",
       "      <td>14.500000</td>\n",
       "      <td>13.710000</td>\n",
       "    </tr>\n",
       "    <tr>\n",
       "      <th>4</th>\n",
       "      <td>1951</td>\n",
       "      <td>5</td>\n",
       "      <td>1951-01-05</td>\n",
       "      <td>1</td>\n",
       "      <td>28.960000</td>\n",
       "      <td>15.360000</td>\n",
       "      <td>13.600000</td>\n",
       "    </tr>\n",
       "    <tr>\n",
       "      <th>...</th>\n",
       "      <td>...</td>\n",
       "      <td>...</td>\n",
       "      <td>...</td>\n",
       "      <td>...</td>\n",
       "      <td>...</td>\n",
       "      <td>...</td>\n",
       "      <td>...</td>\n",
       "    </tr>\n",
       "    <tr>\n",
       "      <th>25563</th>\n",
       "      <td>2020</td>\n",
       "      <td>362</td>\n",
       "      <td>2020-12-27</td>\n",
       "      <td>12</td>\n",
       "      <td>29.906174</td>\n",
       "      <td>15.237489</td>\n",
       "      <td>14.668685</td>\n",
       "    </tr>\n",
       "    <tr>\n",
       "      <th>25564</th>\n",
       "      <td>2020</td>\n",
       "      <td>363</td>\n",
       "      <td>2020-12-28</td>\n",
       "      <td>12</td>\n",
       "      <td>30.160309</td>\n",
       "      <td>15.461741</td>\n",
       "      <td>14.698567</td>\n",
       "    </tr>\n",
       "    <tr>\n",
       "      <th>25565</th>\n",
       "      <td>2020</td>\n",
       "      <td>364</td>\n",
       "      <td>2020-12-29</td>\n",
       "      <td>12</td>\n",
       "      <td>29.836029</td>\n",
       "      <td>15.882054</td>\n",
       "      <td>13.953975</td>\n",
       "    </tr>\n",
       "    <tr>\n",
       "      <th>25566</th>\n",
       "      <td>2020</td>\n",
       "      <td>365</td>\n",
       "      <td>2020-12-30</td>\n",
       "      <td>12</td>\n",
       "      <td>29.305975</td>\n",
       "      <td>17.064831</td>\n",
       "      <td>12.241144</td>\n",
       "    </tr>\n",
       "    <tr>\n",
       "      <th>25567</th>\n",
       "      <td>2020</td>\n",
       "      <td>366</td>\n",
       "      <td>2020-12-31</td>\n",
       "      <td>12</td>\n",
       "      <td>28.859535</td>\n",
       "      <td>18.245193</td>\n",
       "      <td>10.614342</td>\n",
       "    </tr>\n",
       "  </tbody>\n",
       "</table>\n",
       "<p>25568 rows × 7 columns</p>\n",
       "</div>"
      ],
      "text/plain": [
       "       year  day_of_year       date  month   max_temp   min_temp  diff_max_min\n",
       "0      1951            1 1951-01-01      1  29.520000  16.060000     13.460000\n",
       "1      1951            2 1951-01-02      1  28.410000  14.730000     13.680000\n",
       "2      1951            3 1951-01-03      1  28.040000  13.600000     14.440000\n",
       "3      1951            4 1951-01-04      1  28.210000  14.500000     13.710000\n",
       "4      1951            5 1951-01-05      1  28.960000  15.360000     13.600000\n",
       "...     ...          ...        ...    ...        ...        ...           ...\n",
       "25563  2020          362 2020-12-27     12  29.906174  15.237489     14.668685\n",
       "25564  2020          363 2020-12-28     12  30.160309  15.461741     14.698567\n",
       "25565  2020          364 2020-12-29     12  29.836029  15.882054     13.953975\n",
       "25566  2020          365 2020-12-30     12  29.305975  17.064831     12.241144\n",
       "25567  2020          366 2020-12-31     12  28.859535  18.245193     10.614342\n",
       "\n",
       "[25568 rows x 7 columns]"
      ]
     },
     "execution_count": 64,
     "metadata": {},
     "output_type": "execute_result"
    }
   ],
   "source": [
    "df_combined_1951_2020_lat21_long11"
   ]
  },
  {
   "cell_type": "code",
   "execution_count": 50,
   "metadata": {},
   "outputs": [],
   "source": [
    "df_combined_1951_2020_lat21_long11_filtered = df_combined_1951_2020_lat21_long11[\\\n",
    "                (df_combined_1951_2020_lat21_long11['year']>=1980) & (df_combined_1951_2020_lat21_long11['year']<=2013)\n",
    "            & (df_combined_1951_2020_lat21_long11['month']>=3) & (df_combined_1951_2020_lat21_long11['month']<=6)]"
   ]
  },
  {
   "cell_type": "code",
   "execution_count": 51,
   "metadata": {},
   "outputs": [
    {
     "data": {
      "text/html": [
       "<div>\n",
       "<style scoped>\n",
       "    .dataframe tbody tr th:only-of-type {\n",
       "        vertical-align: middle;\n",
       "    }\n",
       "\n",
       "    .dataframe tbody tr th {\n",
       "        vertical-align: top;\n",
       "    }\n",
       "\n",
       "    .dataframe thead th {\n",
       "        text-align: right;\n",
       "    }\n",
       "</style>\n",
       "<table border=\"1\" class=\"dataframe\">\n",
       "  <thead>\n",
       "    <tr style=\"text-align: right;\">\n",
       "      <th></th>\n",
       "      <th>year</th>\n",
       "      <th>day_of_year</th>\n",
       "      <th>date</th>\n",
       "      <th>month</th>\n",
       "      <th>max_temp</th>\n",
       "      <th>min_temp</th>\n",
       "    </tr>\n",
       "  </thead>\n",
       "  <tbody>\n",
       "    <tr>\n",
       "      <th>10652</th>\n",
       "      <td>1980</td>\n",
       "      <td>61</td>\n",
       "      <td>1980-03-01</td>\n",
       "      <td>3</td>\n",
       "      <td>37.08</td>\n",
       "      <td>21.57</td>\n",
       "    </tr>\n",
       "    <tr>\n",
       "      <th>10653</th>\n",
       "      <td>1980</td>\n",
       "      <td>62</td>\n",
       "      <td>1980-03-02</td>\n",
       "      <td>3</td>\n",
       "      <td>36.17</td>\n",
       "      <td>20.71</td>\n",
       "    </tr>\n",
       "    <tr>\n",
       "      <th>10654</th>\n",
       "      <td>1980</td>\n",
       "      <td>63</td>\n",
       "      <td>1980-03-03</td>\n",
       "      <td>3</td>\n",
       "      <td>35.56</td>\n",
       "      <td>20.29</td>\n",
       "    </tr>\n",
       "    <tr>\n",
       "      <th>10655</th>\n",
       "      <td>1980</td>\n",
       "      <td>64</td>\n",
       "      <td>1980-03-04</td>\n",
       "      <td>3</td>\n",
       "      <td>36.89</td>\n",
       "      <td>20.62</td>\n",
       "    </tr>\n",
       "    <tr>\n",
       "      <th>10656</th>\n",
       "      <td>1980</td>\n",
       "      <td>65</td>\n",
       "      <td>1980-03-05</td>\n",
       "      <td>3</td>\n",
       "      <td>37.46</td>\n",
       "      <td>21.44</td>\n",
       "    </tr>\n",
       "    <tr>\n",
       "      <th>...</th>\n",
       "      <td>...</td>\n",
       "      <td>...</td>\n",
       "      <td>...</td>\n",
       "      <td>...</td>\n",
       "      <td>...</td>\n",
       "      <td>...</td>\n",
       "    </tr>\n",
       "    <tr>\n",
       "      <th>22822</th>\n",
       "      <td>2013</td>\n",
       "      <td>177</td>\n",
       "      <td>2013-06-26</td>\n",
       "      <td>6</td>\n",
       "      <td>33.79</td>\n",
       "      <td>24.07</td>\n",
       "    </tr>\n",
       "    <tr>\n",
       "      <th>22823</th>\n",
       "      <td>2013</td>\n",
       "      <td>178</td>\n",
       "      <td>2013-06-27</td>\n",
       "      <td>6</td>\n",
       "      <td>34.88</td>\n",
       "      <td>23.50</td>\n",
       "    </tr>\n",
       "    <tr>\n",
       "      <th>22824</th>\n",
       "      <td>2013</td>\n",
       "      <td>179</td>\n",
       "      <td>2013-06-28</td>\n",
       "      <td>6</td>\n",
       "      <td>35.56</td>\n",
       "      <td>23.06</td>\n",
       "    </tr>\n",
       "    <tr>\n",
       "      <th>22825</th>\n",
       "      <td>2013</td>\n",
       "      <td>180</td>\n",
       "      <td>2013-06-29</td>\n",
       "      <td>6</td>\n",
       "      <td>34.89</td>\n",
       "      <td>23.31</td>\n",
       "    </tr>\n",
       "    <tr>\n",
       "      <th>22826</th>\n",
       "      <td>2013</td>\n",
       "      <td>181</td>\n",
       "      <td>2013-06-30</td>\n",
       "      <td>6</td>\n",
       "      <td>34.58</td>\n",
       "      <td>23.80</td>\n",
       "    </tr>\n",
       "  </tbody>\n",
       "</table>\n",
       "<p>4148 rows × 6 columns</p>\n",
       "</div>"
      ],
      "text/plain": [
       "       year  day_of_year       date  month  max_temp  min_temp\n",
       "10652  1980           61 1980-03-01      3     37.08     21.57\n",
       "10653  1980           62 1980-03-02      3     36.17     20.71\n",
       "10654  1980           63 1980-03-03      3     35.56     20.29\n",
       "10655  1980           64 1980-03-04      3     36.89     20.62\n",
       "10656  1980           65 1980-03-05      3     37.46     21.44\n",
       "...     ...          ...        ...    ...       ...       ...\n",
       "22822  2013          177 2013-06-26      6     33.79     24.07\n",
       "22823  2013          178 2013-06-27      6     34.88     23.50\n",
       "22824  2013          179 2013-06-28      6     35.56     23.06\n",
       "22825  2013          180 2013-06-29      6     34.89     23.31\n",
       "22826  2013          181 2013-06-30      6     34.58     23.80\n",
       "\n",
       "[4148 rows x 6 columns]"
      ]
     },
     "execution_count": 51,
     "metadata": {},
     "output_type": "execute_result"
    }
   ],
   "source": [
    "df_combined_1951_2020_lat21_long11_filtered"
   ]
  },
  {
   "cell_type": "code",
   "execution_count": null,
   "metadata": {},
   "outputs": [],
   "source": [
    "df_combined_1951_2020_lat21_long11_filtered.to_csv('df_combined_1951_2020_lat21_long11_filtered.csv', index=False)"
   ]
  },
  {
   "cell_type": "code",
   "execution_count": null,
   "metadata": {},
   "outputs": [],
   "source": []
  },
  {
   "cell_type": "markdown",
   "metadata": {},
   "source": [
    "#### Old Format"
   ]
  },
  {
   "cell_type": "code",
   "execution_count": 13,
   "metadata": {},
   "outputs": [],
   "source": [
    "# Creating DataFrame for Max temp\n",
    "df_tasmax_imd_1951_2020_lat21_long11 = pd.DataFrame()\n",
    "\n",
    "start = 0\n",
    "\n",
    "for year in range(1951, 2021):\n",
    "    if calendar.isleap(year):\n",
    "        end = start + 366\n",
    "        col_tmp = list(tasmax_imd_1951_2020_lat21_long11[start:end])\n",
    "        df_tasmax_imd_1951_2020_lat21_long11[str(year)] = col_tmp\n",
    "        start = start + 366\n",
    "    else:\n",
    "        end = start + 365\n",
    "        col_tmp = list(tasmax_imd_1951_2020_lat21_long11[start:end]) + ['NA']\n",
    "        df_tasmax_imd_1951_2020_lat21_long11[str(year)] = col_tmp\n",
    "        start = start + 365\n",
    "    "
   ]
  },
  {
   "cell_type": "code",
   "execution_count": 19,
   "metadata": {},
   "outputs": [],
   "source": [
    "# Creating DataFrame for Min temp\n",
    "df_tasmin_imd_1951_2020_lat21_long11 = pd.DataFrame()\n",
    "\n",
    "start = 0\n",
    "\n",
    "for year in range(1951, 2021):\n",
    "    if calendar.isleap(year):\n",
    "        end = start + 366\n",
    "        col_tmp = list(tasmin_imd_1951_2020_lat21_long11[start:end])\n",
    "        df_tasmin_imd_1951_2020_lat21_long11[str(year)] = col_tmp\n",
    "        start = start + 366\n",
    "    else:\n",
    "        end = start + 365\n",
    "        col_tmp = list(tasmin_imd_1951_2020_lat21_long11[start:end]) + ['NA']\n",
    "        df_tasmin_imd_1951_2020_lat21_long11[str(year)] = col_tmp\n",
    "        start = start + 365"
   ]
  },
  {
   "cell_type": "code",
   "execution_count": 22,
   "metadata": {},
   "outputs": [],
   "source": [
    "df_tasmax_imd_1951_2020_lat21_long11.to_csv('df_tasmax_imd_1951_2020_lat21_long11.csv', index=False)"
   ]
  },
  {
   "cell_type": "code",
   "execution_count": 23,
   "metadata": {},
   "outputs": [],
   "source": [
    "df_tasmin_imd_1951_2020_lat21_long11.to_csv('df_tasmin_imd_1951_2020_lat21_long11.csv', index=False)"
   ]
  },
  {
   "cell_type": "code",
   "execution_count": null,
   "metadata": {},
   "outputs": [],
   "source": []
  }
 ],
 "metadata": {
  "kernelspec": {
   "display_name": "Python 3",
   "language": "python",
   "name": "python3"
  },
  "language_info": {
   "codemirror_mode": {
    "name": "ipython",
    "version": 3
   },
   "file_extension": ".py",
   "mimetype": "text/x-python",
   "name": "python",
   "nbconvert_exporter": "python",
   "pygments_lexer": "ipython3",
   "version": "3.7.8"
  }
 },
 "nbformat": 4,
 "nbformat_minor": 4
}
