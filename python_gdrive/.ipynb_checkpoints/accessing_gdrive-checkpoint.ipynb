{
 "cells": [
  {
   "cell_type": "code",
   "execution_count": 20,
   "metadata": {},
   "outputs": [],
   "source": [
    "from __future__ import print_function\n",
    "\n",
    "import os\n",
    "import glob\n",
    "\n",
    "from googleapiclient.discovery import build\n",
    "from googleapiclient.http import MediaFileUpload\n",
    "from httplib2 import Http\n",
    "from oauth2client import file as oauth2file, client, tools"
   ]
  },
  {
   "cell_type": "code",
   "execution_count": 21,
   "metadata": {},
   "outputs": [],
   "source": [
    "SCOPES = 'https://www.googleapis.com/auth/drive'\n",
    "CREDENTIAL_FILE = 'D:/Projects/TG_GitHub/python_gdrive/cred/cred_isi04.json'\n",
    "TOKEN_FILE = 'cred/gdrive_sync_token_isi04.json'"
   ]
  },
  {
   "cell_type": "code",
   "execution_count": 22,
   "metadata": {},
   "outputs": [],
   "source": [
    "store = oauth2file.Storage(TOKEN_FILE)"
   ]
  },
  {
   "cell_type": "code",
   "execution_count": 23,
   "metadata": {},
   "outputs": [
    {
     "name": "stderr",
     "output_type": "stream",
     "text": [
      "c:\\users\\dell\\appdata\\local\\programs\\python\\python37\\lib\\site-packages\\oauth2client\\_helpers.py:255: UserWarning: Cannot access cred/gdrive_sync_token_isi04.json: No such file or directory\n",
      "  warnings.warn(_MISSING_FILE_MESSAGE.format(filename))\n"
     ]
    }
   ],
   "source": [
    "creds = store.get()"
   ]
  },
  {
   "cell_type": "code",
   "execution_count": 24,
   "metadata": {},
   "outputs": [
    {
     "data": {
      "text/plain": [
       "True"
      ]
     },
     "execution_count": 24,
     "metadata": {},
     "output_type": "execute_result"
    }
   ],
   "source": [
    "not creds or creds.invalid"
   ]
  },
  {
   "cell_type": "code",
   "execution_count": 25,
   "metadata": {},
   "outputs": [
    {
     "name": "stderr",
     "output_type": "stream",
     "text": [
      "usage: ipykernel_launcher.py [--auth_host_name AUTH_HOST_NAME]\n",
      "                             [--noauth_local_webserver]\n",
      "                             [--auth_host_port [AUTH_HOST_PORT [AUTH_HOST_PORT ...]]]\n",
      "                             [--logging_level {DEBUG,INFO,WARNING,ERROR,CRITICAL}]\n",
      "ipykernel_launcher.py: error: unrecognized arguments: -f C:\\Users\\DELL\\AppData\\Roaming\\jupyter\\runtime\\kernel-e199a04c-da67-471e-b74c-d6e46e3f104a.json\n"
     ]
    },
    {
     "ename": "SystemExit",
     "evalue": "2",
     "output_type": "error",
     "traceback": [
      "An exception has occurred, use %tb to see the full traceback.\n",
      "\u001b[1;31mSystemExit\u001b[0m\u001b[1;31m:\u001b[0m 2\n"
     ]
    },
    {
     "name": "stderr",
     "output_type": "stream",
     "text": [
      "c:\\users\\dell\\appdata\\local\\programs\\python\\python37\\lib\\site-packages\\IPython\\core\\interactiveshell.py:3351: UserWarning: To exit: use 'exit', 'quit', or Ctrl-D.\n",
      "  warn(\"To exit: use 'exit', 'quit', or Ctrl-D.\", stacklevel=1)\n"
     ]
    }
   ],
   "source": [
    "#if not creds or creds.invalid:\n",
    "flow = client.flow_from_clientsecrets(CREDENTIAL_FILE, SCOPES)\n",
    "creds = tools.run_flow(flow, store)"
   ]
  },
  {
   "cell_type": "code",
   "execution_count": 9,
   "metadata": {},
   "outputs": [
    {
     "ename": "AttributeError",
     "evalue": "'NoneType' object has no attribute 'authorize'",
     "output_type": "error",
     "traceback": [
      "\u001b[1;31m---------------------------------------------------------------------------\u001b[0m",
      "\u001b[1;31mAttributeError\u001b[0m                            Traceback (most recent call last)",
      "\u001b[1;32m<ipython-input-9-3d27d560bfc9>\u001b[0m in \u001b[0;36m<module>\u001b[1;34m\u001b[0m\n\u001b[1;32m----> 1\u001b[1;33m \u001b[0mservice\u001b[0m \u001b[1;33m=\u001b[0m \u001b[0mbuild\u001b[0m\u001b[1;33m(\u001b[0m\u001b[1;34m'drive'\u001b[0m\u001b[1;33m,\u001b[0m \u001b[1;34m'v3'\u001b[0m\u001b[1;33m,\u001b[0m \u001b[0mhttp\u001b[0m\u001b[1;33m=\u001b[0m\u001b[0mcreds\u001b[0m\u001b[1;33m.\u001b[0m\u001b[0mauthorize\u001b[0m\u001b[1;33m(\u001b[0m\u001b[0mHttp\u001b[0m\u001b[1;33m(\u001b[0m\u001b[1;33m)\u001b[0m\u001b[1;33m)\u001b[0m\u001b[1;33m)\u001b[0m\u001b[1;33m\u001b[0m\u001b[1;33m\u001b[0m\u001b[0m\n\u001b[0m\u001b[0;32m      2\u001b[0m \u001b[0mdrive_service\u001b[0m \u001b[1;33m=\u001b[0m \u001b[0mservice\u001b[0m\u001b[1;33m\u001b[0m\u001b[1;33m\u001b[0m\u001b[0m\n",
      "\u001b[1;31mAttributeError\u001b[0m: 'NoneType' object has no attribute 'authorize'"
     ]
    }
   ],
   "source": [
    "service = build('drive', 'v3', http=creds.authorize(Http()))\n",
    "drive_service = service"
   ]
  },
  {
   "cell_type": "markdown",
   "metadata": {},
   "source": [
    "### Link: https://www.geeksforgeeks.org/uploading-files-on-google-drive-using-python/"
   ]
  },
  {
   "cell_type": "markdown",
   "metadata": {},
   "source": [
    "#### Below code worked for uploading"
   ]
  },
  {
   "cell_type": "code",
   "execution_count": 28,
   "metadata": {},
   "outputs": [],
   "source": [
    "from pydrive.drive import GoogleDrive\n",
    "from pydrive.auth import GoogleAuth"
   ]
  },
  {
   "cell_type": "code",
   "execution_count": 29,
   "metadata": {},
   "outputs": [],
   "source": [
    "# For using listdir()\n",
    "import os"
   ]
  },
  {
   "cell_type": "code",
   "execution_count": 30,
   "metadata": {},
   "outputs": [],
   "source": [
    "# Below code does the authentication\n",
    "# part of the code\n",
    "gauth = GoogleAuth()"
   ]
  },
  {
   "cell_type": "code",
   "execution_count": 31,
   "metadata": {},
   "outputs": [
    {
     "name": "stdout",
     "output_type": "stream",
     "text": [
      "Your browser has been opened to visit:\n",
      "\n",
      "    https://accounts.google.com/o/oauth2/auth?client_id=891363209707-bqps7bv168i1n3g02ppbpmd1rn27rq0p.apps.googleusercontent.com&redirect_uri=http%3A%2F%2Flocalhost%3A8080%2F&scope=https%3A%2F%2Fwww.googleapis.com%2Fauth%2Fdrive&access_type=offline&response_type=code\n",
      "\n",
      "Authentication successful.\n"
     ]
    }
   ],
   "source": [
    "# Creates local webserver and auto\n",
    "# handles authentication.\n",
    "gauth.LocalWebserverAuth()       \n",
    "drive = GoogleDrive(gauth)"
   ]
  },
  {
   "cell_type": "code",
   "execution_count": 7,
   "metadata": {},
   "outputs": [],
   "source": [
    "f = drive.CreateFile({'title': 'boosting_1_northeastern.pdf'})\n",
    "f.SetContentFile('D:\\\\Study Material\\\\Machine Learning\\\\Basics\\\\boosting_1_northeastern.pdf')\n",
    "f.Upload()"
   ]
  },
  {
   "cell_type": "code",
   "execution_count": 5,
   "metadata": {
    "collapsed": true
   },
   "outputs": [
    {
     "data": {
      "text/plain": [
       "['boosting_1_northeastern.pdf',\n",
       " 'boosting_2.pdf',\n",
       " 'boosting_3_princeton.pdf',\n",
       " 'boosting_4_stanford.pdf',\n",
       " 'clustering_1.pdf',\n",
       " 'clustering_10_spectral.pdf',\n",
       " 'clustering_11_spectral.pdf',\n",
       " 'clustering_2.pdf',\n",
       " 'clustering_3.pdf',\n",
       " 'clustering_4_hierarchical.pdf',\n",
       " 'clustering_5_hierarchical.pdf',\n",
       " 'clustering_6.pdf',\n",
       " 'clustering_7_mixture.pdf',\n",
       " 'clustering_8_spectral.pdf',\n",
       " 'clustering_9_spectral.pdf',\n",
       " 'decision_tree_1_stanford.pdf',\n",
       " 'decision_tree_2.pdf',\n",
       " 'decision_tree_3.pdf',\n",
       " 'ESLR.pdf',\n",
       " 'ISLR.pdf',\n",
       " 'KNN_1.pdf',\n",
       " 'KNN_2.pdf',\n",
       " 'LDA_QDA.pdf',\n",
       " 'logistic_regression_1.pdf',\n",
       " 'logistic_regression_2_stanford.pdf',\n",
       " 'logistic_regression_3.pdf',\n",
       " 'logistic_regression_iitk.pdf',\n",
       " 'Machine - Learning - Tom Mitchell.pdf',\n",
       " 'Machine Learning Basic Concepts.pdf',\n",
       " 'machine_learning_tutorial_point.pdf',\n",
       " 'ML Book_Alpaydin.pdf',\n",
       " 'MLBOOK_Stanford.pdf',\n",
       " 'naive_bayes_1.pdf',\n",
       " 'naive_bayes_2.pdf',\n",
       " 'naive_bayes_3.pdf',\n",
       " 'naive_bayes_4.pdf',\n",
       " 'naive_bayes_5.pdf',\n",
       " 'naive_bayes_6.pdf',\n",
       " 'naive_bayes_7.pdf',\n",
       " 'naive_bayes_8.pdf',\n",
       " 'regularization_1.pdf',\n",
       " 'regularization_2.pdf',\n",
       " 'regularization_3.pdf',\n",
       " 'regularization_4.pdf',\n",
       " 'svm_1.pdf',\n",
       " 'svm_2.pdf',\n",
       " 'svm_3.pdf',\n",
       " 'svm_4.pdf',\n",
       " 'svm_5.pdf',\n",
       " 'svm_5_regression.pdf',\n",
       " 'understanding-machine-learning-theory-algorithms.pdf']"
      ]
     },
     "execution_count": 5,
     "metadata": {},
     "output_type": "execute_result"
    }
   ],
   "source": [
    "import os\n",
    "os.listdir('D:\\Study Material\\Machine Learning\\Basics')"
   ]
  },
  {
   "cell_type": "code",
   "execution_count": 34,
   "metadata": {},
   "outputs": [],
   "source": [
    "file_list = drive.ListFile({'q': \"'root' in parents and trashed=false\"}).GetList()"
   ]
  },
  {
   "cell_type": "code",
   "execution_count": 36,
   "metadata": {},
   "outputs": [
    {
     "name": "stdout",
     "output_type": "stream",
     "text": [
      "boosting_1_northeastern.pdf\n",
      "isi_4\n"
     ]
    }
   ],
   "source": [
    "for file in file_list:\n",
    "    print(file['title'])\n"
   ]
  },
  {
   "cell_type": "code",
   "execution_count": 172,
   "metadata": {},
   "outputs": [],
   "source": [
    "file_list_1 = drive.ListFile().GetList()"
   ]
  },
  {
   "cell_type": "code",
   "execution_count": 173,
   "metadata": {},
   "outputs": [
    {
     "data": {
      "text/plain": [
       "3370"
      ]
     },
     "execution_count": 173,
     "metadata": {},
     "output_type": "execute_result"
    }
   ],
   "source": [
    "len(file_list_1)"
   ]
  },
  {
   "cell_type": "code",
   "execution_count": 66,
   "metadata": {
    "scrolled": true
   },
   "outputs": [
    {
     "data": {
      "text/plain": [
       "GoogleDriveFile({'kind': 'drive#file', 'id': '17RXZZON7lLjZHEeNXG_fnNRxhXl0ORG4', 'etag': '\"MTY1NTczODY2NTAzOA\"', 'selfLink': 'https://www.googleapis.com/drive/v2/files/17RXZZON7lLjZHEeNXG_fnNRxhXl0ORG4', 'alternateLink': 'https://drive.google.com/drive/folders/17RXZZON7lLjZHEeNXG_fnNRxhXl0ORG4', 'embedLink': 'https://drive.google.com/embeddedfolderview?id=17RXZZON7lLjZHEeNXG_fnNRxhXl0ORG4', 'iconLink': 'https://drive-thirdparty.googleusercontent.com/16/type/application/vnd.google-apps.folder+shared', 'title': 'Nomography  Introduction_files', 'mimeType': 'application/vnd.google-apps.folder', 'labels': {'starred': False, 'hidden': False, 'trashed': False, 'restricted': False, 'viewed': True}, 'copyRequiresWriterPermission': False, 'createdDate': '2022-06-20T15:24:25.038Z', 'modifiedDate': '2022-06-20T15:24:25.038Z', 'modifiedByMeDate': '2022-06-20T15:24:25.038Z', 'lastViewedByMeDate': '2022-06-20T15:24:25.038Z', 'markedViewedByMeDate': '1970-01-01T00:00:00.000Z', 'version': '1', 'parents': [{'kind': 'drive#parentReference', 'id': '1tKUuPALPxkr1xwIA7k0Eai4uBsmy8T0r', 'selfLink': 'https://www.googleapis.com/drive/v2/files/17RXZZON7lLjZHEeNXG_fnNRxhXl0ORG4/parents/1tKUuPALPxkr1xwIA7k0Eai4uBsmy8T0r', 'parentLink': 'https://www.googleapis.com/drive/v2/files/1tKUuPALPxkr1xwIA7k0Eai4uBsmy8T0r', 'isRoot': False}], 'userPermission': {'kind': 'drive#permission', 'etag': '\"dXgEZi9ECqRsz-3bCM4dKDivSyk\"', 'id': 'me', 'selfLink': 'https://www.googleapis.com/drive/v2/files/17RXZZON7lLjZHEeNXG_fnNRxhXl0ORG4/permissions/me', 'role': 'owner', 'type': 'user', 'pendingOwner': False}, 'quotaBytesUsed': '0', 'ownerNames': ['Tanmoy Ghosh'], 'owners': [{'kind': 'drive#user', 'displayName': 'Tanmoy Ghosh', 'picture': {'url': 'https://lh3.googleusercontent.com/a/default-user=s64'}, 'isAuthenticatedUser': True, 'permissionId': '08221058167452114894', 'emailAddress': 'tanmoyisi04@gmail.com'}], 'lastModifyingUserName': 'Tanmoy Ghosh', 'lastModifyingUser': {'kind': 'drive#user', 'displayName': 'Tanmoy Ghosh', 'picture': {'url': 'https://lh3.googleusercontent.com/a/default-user=s64'}, 'isAuthenticatedUser': True, 'permissionId': '08221058167452114894', 'emailAddress': 'tanmoyisi04@gmail.com'}, 'capabilities': {'canCopy': False, 'canEdit': True}, 'editable': True, 'copyable': False, 'writersCanShare': True, 'shared': True, 'explicitlyTrashed': False, 'appDataContents': False, 'spaces': ['drive']})"
      ]
     },
     "execution_count": 66,
     "metadata": {},
     "output_type": "execute_result"
    }
   ],
   "source": [
    "file_list_1[100]#['parents'][0]"
   ]
  },
  {
   "cell_type": "code",
   "execution_count": 68,
   "metadata": {},
   "outputs": [],
   "source": [
    "import pandas as pd\n",
    "drive_files = pd.DataFrame(columns = ['self_id', 'self_title', 'self_type', 'parent_id'])\n",
    "\n",
    "for file in file_list_1:\n",
    "    drive_files.loc[len(drive_files)] = [file['id'], file['title'], file['mimeType'], file['parents'][0]['id']]"
   ]
  },
  {
   "cell_type": "code",
   "execution_count": 106,
   "metadata": {},
   "outputs": [],
   "source": [
    "drive_files_un = drive_files\n",
    "drive_files_un['path_front'] = drive_files_un['self_title']\n",
    "drive_files_un['path_back'] = ''"
   ]
  },
  {
   "cell_type": "code",
   "execution_count": 107,
   "metadata": {},
   "outputs": [
    {
     "data": {
      "text/html": [
       "<div>\n",
       "<style scoped>\n",
       "    .dataframe tbody tr th:only-of-type {\n",
       "        vertical-align: middle;\n",
       "    }\n",
       "\n",
       "    .dataframe tbody tr th {\n",
       "        vertical-align: top;\n",
       "    }\n",
       "\n",
       "    .dataframe thead th {\n",
       "        text-align: right;\n",
       "    }\n",
       "</style>\n",
       "<table border=\"1\" class=\"dataframe\">\n",
       "  <thead>\n",
       "    <tr style=\"text-align: right;\">\n",
       "      <th></th>\n",
       "      <th>self_id</th>\n",
       "      <th>self_title</th>\n",
       "      <th>self_type</th>\n",
       "      <th>parent_id</th>\n",
       "      <th>path_front</th>\n",
       "      <th>path_back</th>\n",
       "    </tr>\n",
       "  </thead>\n",
       "  <tbody>\n",
       "    <tr>\n",
       "      <th>0</th>\n",
       "      <td>1le_SGE4ELDW51uAKoPYBD49sW-dmMiBe</td>\n",
       "      <td>boosting_1_northeastern.pdf</td>\n",
       "      <td>application/pdf</td>\n",
       "      <td>0APxPVzRZSvrRUk9PVA</td>\n",
       "      <td>boosting_1_northeastern.pdf</td>\n",
       "      <td></td>\n",
       "    </tr>\n",
       "    <tr>\n",
       "      <th>1</th>\n",
       "      <td>1QPwxUW4YCB2jUNhwbHS58gLe4tMUf7_V</td>\n",
       "      <td>LDA_QDA.pdf</td>\n",
       "      <td>application/pdf</td>\n",
       "      <td>1AyHOmt2nwgWk7IDKJtEHVF1At1F6mqgS</td>\n",
       "      <td>LDA_QDA.pdf</td>\n",
       "      <td></td>\n",
       "    </tr>\n",
       "    <tr>\n",
       "      <th>2</th>\n",
       "      <td>1Lv_3PMDzxdHivjk3GORteGDGDeeClsFg</td>\n",
       "      <td>SQL Tutorial.pdf</td>\n",
       "      <td>application/pdf</td>\n",
       "      <td>1bsEC5Oy3jTEoODSIcJVnYVJkuN50lE_M</td>\n",
       "      <td>SQL Tutorial.pdf</td>\n",
       "      <td></td>\n",
       "    </tr>\n",
       "    <tr>\n",
       "      <th>3</th>\n",
       "      <td>130Y53Lwuta3F0cGe-1IPuXoLcG3-MQYl</td>\n",
       "      <td>sql_berkeley.pdf</td>\n",
       "      <td>application/pdf</td>\n",
       "      <td>1bsEC5Oy3jTEoODSIcJVnYVJkuN50lE_M</td>\n",
       "      <td>sql_berkeley.pdf</td>\n",
       "      <td></td>\n",
       "    </tr>\n",
       "    <tr>\n",
       "      <th>4</th>\n",
       "      <td>1VtOyDEPVEKX_COHEjLg_yAU4aZjnu5Q1</td>\n",
       "      <td>SQL- A Beginner's Guide, 3rd Edition.pdf</td>\n",
       "      <td>application/pdf</td>\n",
       "      <td>1bsEC5Oy3jTEoODSIcJVnYVJkuN50lE_M</td>\n",
       "      <td>SQL- A Beginner's Guide, 3rd Edition.pdf</td>\n",
       "      <td></td>\n",
       "    </tr>\n",
       "  </tbody>\n",
       "</table>\n",
       "</div>"
      ],
      "text/plain": [
       "                             self_id  \\\n",
       "0  1le_SGE4ELDW51uAKoPYBD49sW-dmMiBe   \n",
       "1  1QPwxUW4YCB2jUNhwbHS58gLe4tMUf7_V   \n",
       "2  1Lv_3PMDzxdHivjk3GORteGDGDeeClsFg   \n",
       "3  130Y53Lwuta3F0cGe-1IPuXoLcG3-MQYl   \n",
       "4  1VtOyDEPVEKX_COHEjLg_yAU4aZjnu5Q1   \n",
       "\n",
       "                                 self_title        self_type  \\\n",
       "0               boosting_1_northeastern.pdf  application/pdf   \n",
       "1                               LDA_QDA.pdf  application/pdf   \n",
       "2                          SQL Tutorial.pdf  application/pdf   \n",
       "3                          sql_berkeley.pdf  application/pdf   \n",
       "4  SQL- A Beginner's Guide, 3rd Edition.pdf  application/pdf   \n",
       "\n",
       "                           parent_id  \\\n",
       "0                0APxPVzRZSvrRUk9PVA   \n",
       "1  1AyHOmt2nwgWk7IDKJtEHVF1At1F6mqgS   \n",
       "2  1bsEC5Oy3jTEoODSIcJVnYVJkuN50lE_M   \n",
       "3  1bsEC5Oy3jTEoODSIcJVnYVJkuN50lE_M   \n",
       "4  1bsEC5Oy3jTEoODSIcJVnYVJkuN50lE_M   \n",
       "\n",
       "                                 path_front path_back  \n",
       "0               boosting_1_northeastern.pdf            \n",
       "1                               LDA_QDA.pdf            \n",
       "2                          SQL Tutorial.pdf            \n",
       "3                          sql_berkeley.pdf            \n",
       "4  SQL- A Beginner's Guide, 3rd Edition.pdf            "
      ]
     },
     "execution_count": 107,
     "metadata": {},
     "output_type": "execute_result"
    }
   ],
   "source": [
    "drive_files_un.head()"
   ]
  },
  {
   "cell_type": "code",
   "execution_count": 152,
   "metadata": {},
   "outputs": [],
   "source": [
    "def add_1_step_back(drive_files_un):\n",
    "    drive_files_2 = pd.merge(drive_files_un, drive_files_un[['self_id', 'path_front']], left_on='parent_id', \\\n",
    "                         right_on='self_id', how='left')\n",
    "    drive_files_2 = drive_files_2.drop('path_back', axis=1)\n",
    "    drive_files_2 = drive_files_2.rename({'self_id_x': 'self_id', 'path_front_x': 'path_front', \\\n",
    "                                      'path_front_y': 'path_back'}, axis=1)\n",
    "    drive_files_2 = drive_files_2[['self_id', 'self_title', 'self_type', 'parent_id', 'path_front', 'path_back']]\n",
    "    drive_files_2['path_back'] = drive_files_2['path_back'].fillna('')\n",
    "    drive_files_2['path_back'] = drive_files_2['path_back'].apply(lambda x: x[:x.find('/')] if x.find('/') != -1 else x)\n",
    "    \n",
    "    drive_files_2['path_front'] = drive_files_2['path_back'].str.strip('/') + '/' + drive_files_2['path_front'].str.strip('/')\n",
    "    return drive_files_2"
   ]
  },
  {
   "cell_type": "code",
   "execution_count": 169,
   "metadata": {},
   "outputs": [
    {
     "name": "stdout",
     "output_type": "stream",
     "text": [
      "1\n",
      "2\n",
      "3\n",
      "4\n",
      "5\n",
      "6\n",
      "7\n",
      "8\n",
      "9\n",
      "10\n",
      "11\n"
     ]
    }
   ],
   "source": [
    "df = drive_files_un\n",
    "i = 1\n",
    "while True:\n",
    "    print(i)\n",
    "    df = add_1_step_back(df)\n",
    "    if list(set(list(df['path_front'].str[:1]))) == ['/']:\n",
    "        break\n",
    "    i += 1"
   ]
  },
  {
   "cell_type": "code",
   "execution_count": 170,
   "metadata": {},
   "outputs": [
    {
     "data": {
      "text/html": [
       "<div>\n",
       "<style scoped>\n",
       "    .dataframe tbody tr th:only-of-type {\n",
       "        vertical-align: middle;\n",
       "    }\n",
       "\n",
       "    .dataframe tbody tr th {\n",
       "        vertical-align: top;\n",
       "    }\n",
       "\n",
       "    .dataframe thead th {\n",
       "        text-align: right;\n",
       "    }\n",
       "</style>\n",
       "<table border=\"1\" class=\"dataframe\">\n",
       "  <thead>\n",
       "    <tr style=\"text-align: right;\">\n",
       "      <th></th>\n",
       "      <th>self_id</th>\n",
       "      <th>self_title</th>\n",
       "      <th>self_type</th>\n",
       "      <th>parent_id</th>\n",
       "      <th>path_front</th>\n",
       "      <th>path_back</th>\n",
       "    </tr>\n",
       "  </thead>\n",
       "  <tbody>\n",
       "    <tr>\n",
       "      <th>0</th>\n",
       "      <td>1le_SGE4ELDW51uAKoPYBD49sW-dmMiBe</td>\n",
       "      <td>boosting_1_northeastern.pdf</td>\n",
       "      <td>application/pdf</td>\n",
       "      <td>0APxPVzRZSvrRUk9PVA</td>\n",
       "      <td>/boosting_1_northeastern.pdf</td>\n",
       "      <td></td>\n",
       "    </tr>\n",
       "    <tr>\n",
       "      <th>1</th>\n",
       "      <td>1QPwxUW4YCB2jUNhwbHS58gLe4tMUf7_V</td>\n",
       "      <td>LDA_QDA.pdf</td>\n",
       "      <td>application/pdf</td>\n",
       "      <td>1AyHOmt2nwgWk7IDKJtEHVF1At1F6mqgS</td>\n",
       "      <td>/isi_4/BasicMachineLearning/LDA_QDA.pdf</td>\n",
       "      <td></td>\n",
       "    </tr>\n",
       "    <tr>\n",
       "      <th>2</th>\n",
       "      <td>1Lv_3PMDzxdHivjk3GORteGDGDeeClsFg</td>\n",
       "      <td>SQL Tutorial.pdf</td>\n",
       "      <td>application/pdf</td>\n",
       "      <td>1bsEC5Oy3jTEoODSIcJVnYVJkuN50lE_M</td>\n",
       "      <td>/isi_4/SQL/SQL Tutorial.pdf</td>\n",
       "      <td></td>\n",
       "    </tr>\n",
       "    <tr>\n",
       "      <th>3</th>\n",
       "      <td>130Y53Lwuta3F0cGe-1IPuXoLcG3-MQYl</td>\n",
       "      <td>sql_berkeley.pdf</td>\n",
       "      <td>application/pdf</td>\n",
       "      <td>1bsEC5Oy3jTEoODSIcJVnYVJkuN50lE_M</td>\n",
       "      <td>/isi_4/SQL/sql_berkeley.pdf</td>\n",
       "      <td></td>\n",
       "    </tr>\n",
       "    <tr>\n",
       "      <th>4</th>\n",
       "      <td>1VtOyDEPVEKX_COHEjLg_yAU4aZjnu5Q1</td>\n",
       "      <td>SQL- A Beginner's Guide, 3rd Edition.pdf</td>\n",
       "      <td>application/pdf</td>\n",
       "      <td>1bsEC5Oy3jTEoODSIcJVnYVJkuN50lE_M</td>\n",
       "      <td>/isi_4/SQL/SQL- A Beginner's Guide, 3rd Editio...</td>\n",
       "      <td></td>\n",
       "    </tr>\n",
       "    <tr>\n",
       "      <th>...</th>\n",
       "      <td>...</td>\n",
       "      <td>...</td>\n",
       "      <td>...</td>\n",
       "      <td>...</td>\n",
       "      <td>...</td>\n",
       "      <td>...</td>\n",
       "    </tr>\n",
       "    <tr>\n",
       "      <th>3365</th>\n",
       "      <td>0B_xPVzRZSvrRT3ZEa2J2bC1LUTQ</td>\n",
       "      <td>Correlation.pdf</td>\n",
       "      <td>application/pdf</td>\n",
       "      <td>0B_xPVzRZSvrRcWgzY0doUTEwNGc</td>\n",
       "      <td>/isi_4/Statistics/Econometric Methods/Correlat...</td>\n",
       "      <td></td>\n",
       "    </tr>\n",
       "    <tr>\n",
       "      <th>3366</th>\n",
       "      <td>0B_xPVzRZSvrRbWpfS0Z2TkM3S0k</td>\n",
       "      <td>classical regression model.pdf</td>\n",
       "      <td>application/pdf</td>\n",
       "      <td>0B_xPVzRZSvrRcWgzY0doUTEwNGc</td>\n",
       "      <td>/isi_4/Statistics/Econometric Methods/classica...</td>\n",
       "      <td></td>\n",
       "    </tr>\n",
       "    <tr>\n",
       "      <th>3367</th>\n",
       "      <td>0B_xPVzRZSvrRcWgzY0doUTEwNGc</td>\n",
       "      <td>Econometric Methods</td>\n",
       "      <td>application/vnd.google-apps.folder</td>\n",
       "      <td>0B_xPVzRZSvrRQ0xUa256MGVSZWM</td>\n",
       "      <td>/isi_4/Statistics/Econometric Methods</td>\n",
       "      <td></td>\n",
       "    </tr>\n",
       "    <tr>\n",
       "      <th>3368</th>\n",
       "      <td>0B_xPVzRZSvrRQm04S0V0TzdtRmM</td>\n",
       "      <td>NDClassNote.pdf</td>\n",
       "      <td>application/pdf</td>\n",
       "      <td>0B_xPVzRZSvrRbG84NVJIemgxN1E</td>\n",
       "      <td>/isi_4/Statistics/ISI Class Notes/NDClassNote.pdf</td>\n",
       "      <td></td>\n",
       "    </tr>\n",
       "    <tr>\n",
       "      <th>3369</th>\n",
       "      <td>0B_xPVzRZSvrRQ0xUa256MGVSZWM</td>\n",
       "      <td>Statistics</td>\n",
       "      <td>application/vnd.google-apps.folder</td>\n",
       "      <td>1EeS5se1-rdcuwJHg56KWli4_d1rwAMoU</td>\n",
       "      <td>/isi_4/Statistics</td>\n",
       "      <td></td>\n",
       "    </tr>\n",
       "  </tbody>\n",
       "</table>\n",
       "<p>3370 rows × 6 columns</p>\n",
       "</div>"
      ],
      "text/plain": [
       "                                self_id  \\\n",
       "0     1le_SGE4ELDW51uAKoPYBD49sW-dmMiBe   \n",
       "1     1QPwxUW4YCB2jUNhwbHS58gLe4tMUf7_V   \n",
       "2     1Lv_3PMDzxdHivjk3GORteGDGDeeClsFg   \n",
       "3     130Y53Lwuta3F0cGe-1IPuXoLcG3-MQYl   \n",
       "4     1VtOyDEPVEKX_COHEjLg_yAU4aZjnu5Q1   \n",
       "...                                 ...   \n",
       "3365       0B_xPVzRZSvrRT3ZEa2J2bC1LUTQ   \n",
       "3366       0B_xPVzRZSvrRbWpfS0Z2TkM3S0k   \n",
       "3367       0B_xPVzRZSvrRcWgzY0doUTEwNGc   \n",
       "3368       0B_xPVzRZSvrRQm04S0V0TzdtRmM   \n",
       "3369       0B_xPVzRZSvrRQ0xUa256MGVSZWM   \n",
       "\n",
       "                                    self_title  \\\n",
       "0                  boosting_1_northeastern.pdf   \n",
       "1                                  LDA_QDA.pdf   \n",
       "2                             SQL Tutorial.pdf   \n",
       "3                             sql_berkeley.pdf   \n",
       "4     SQL- A Beginner's Guide, 3rd Edition.pdf   \n",
       "...                                        ...   \n",
       "3365                           Correlation.pdf   \n",
       "3366            classical regression model.pdf   \n",
       "3367                       Econometric Methods   \n",
       "3368                           NDClassNote.pdf   \n",
       "3369                                Statistics   \n",
       "\n",
       "                               self_type                          parent_id  \\\n",
       "0                        application/pdf                0APxPVzRZSvrRUk9PVA   \n",
       "1                        application/pdf  1AyHOmt2nwgWk7IDKJtEHVF1At1F6mqgS   \n",
       "2                        application/pdf  1bsEC5Oy3jTEoODSIcJVnYVJkuN50lE_M   \n",
       "3                        application/pdf  1bsEC5Oy3jTEoODSIcJVnYVJkuN50lE_M   \n",
       "4                        application/pdf  1bsEC5Oy3jTEoODSIcJVnYVJkuN50lE_M   \n",
       "...                                  ...                                ...   \n",
       "3365                     application/pdf       0B_xPVzRZSvrRcWgzY0doUTEwNGc   \n",
       "3366                     application/pdf       0B_xPVzRZSvrRcWgzY0doUTEwNGc   \n",
       "3367  application/vnd.google-apps.folder       0B_xPVzRZSvrRQ0xUa256MGVSZWM   \n",
       "3368                     application/pdf       0B_xPVzRZSvrRbG84NVJIemgxN1E   \n",
       "3369  application/vnd.google-apps.folder  1EeS5se1-rdcuwJHg56KWli4_d1rwAMoU   \n",
       "\n",
       "                                             path_front path_back  \n",
       "0                          /boosting_1_northeastern.pdf            \n",
       "1               /isi_4/BasicMachineLearning/LDA_QDA.pdf            \n",
       "2                           /isi_4/SQL/SQL Tutorial.pdf            \n",
       "3                           /isi_4/SQL/sql_berkeley.pdf            \n",
       "4     /isi_4/SQL/SQL- A Beginner's Guide, 3rd Editio...            \n",
       "...                                                 ...       ...  \n",
       "3365  /isi_4/Statistics/Econometric Methods/Correlat...            \n",
       "3366  /isi_4/Statistics/Econometric Methods/classica...            \n",
       "3367              /isi_4/Statistics/Econometric Methods            \n",
       "3368  /isi_4/Statistics/ISI Class Notes/NDClassNote.pdf            \n",
       "3369                                  /isi_4/Statistics            \n",
       "\n",
       "[3370 rows x 6 columns]"
      ]
     },
     "execution_count": 170,
     "metadata": {},
     "output_type": "execute_result"
    }
   ],
   "source": [
    "df"
   ]
  },
  {
   "cell_type": "code",
   "execution_count": 171,
   "metadata": {},
   "outputs": [],
   "source": [
    "df.to_excel('drive_file_list.xlsx', index=False)"
   ]
  },
  {
   "cell_type": "markdown",
   "metadata": {},
   "source": [
    "### Get all file list from local folder"
   ]
  },
  {
   "cell_type": "code",
   "execution_count": null,
   "metadata": {},
   "outputs": [],
   "source": []
  },
  {
   "cell_type": "code",
   "execution_count": null,
   "metadata": {},
   "outputs": [],
   "source": []
  }
 ],
 "metadata": {
  "kernelspec": {
   "display_name": "Python 3",
   "language": "python",
   "name": "python3"
  },
  "language_info": {
   "codemirror_mode": {
    "name": "ipython",
    "version": 3
   },
   "file_extension": ".py",
   "mimetype": "text/x-python",
   "name": "python",
   "nbconvert_exporter": "python",
   "pygments_lexer": "ipython3",
   "version": "3.7.8"
  }
 },
 "nbformat": 4,
 "nbformat_minor": 4
}
