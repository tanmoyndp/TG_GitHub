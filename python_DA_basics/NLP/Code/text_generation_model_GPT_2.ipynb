{
 "cells": [
  {
   "cell_type": "markdown",
   "metadata": {},
   "source": [
    "#### Link: https://towardsdatascience.com/text-generation-with-pretrained-gpt2-using-pytorch-563c7c90700"
   ]
  },
  {
   "cell_type": "code",
   "execution_count": 1,
   "metadata": {},
   "outputs": [],
   "source": [
    "from transformers import pipeline"
   ]
  },
  {
   "cell_type": "code",
   "execution_count": 2,
   "metadata": {},
   "outputs": [
    {
     "name": "stderr",
     "output_type": "stream",
     "text": [
      "No model was supplied, defaulted to gpt2 (https://huggingface.co/gpt2)\n"
     ]
    }
   ],
   "source": [
    "text_generation = pipeline(\"text-generation\")"
   ]
  },
  {
   "cell_type": "code",
   "execution_count": 6,
   "metadata": {},
   "outputs": [
    {
     "name": "stderr",
     "output_type": "stream",
     "text": [
      "The attention mask and the pad token id were not set. As a consequence, you may observe unexpected behavior. Please pass your input's `attention_mask` to obtain reliable results.\n",
      "Setting `pad_token_id` to `eos_token_id`:50256 for open-end generation.\n"
     ]
    },
    {
     "name": "stdout",
     "output_type": "stream",
     "text": [
      "The world is a better place if you're a good person.\n",
      "\n",
      "I'm not saying that you should be a bad\n"
     ]
    }
   ],
   "source": [
    "prefix_text = \"The world is\"\n",
    "generated_text= text_generation(prefix_text, max_length=25, do_sample=False)[0]\n",
    "print(generated_text['generated_text'])"
   ]
  },
  {
   "cell_type": "code",
   "execution_count": 11,
   "metadata": {},
   "outputs": [
    {
     "name": "stderr",
     "output_type": "stream",
     "text": [
      "The attention mask and the pad token id were not set. As a consequence, you may observe unexpected behavior. Please pass your input's `attention_mask` to obtain reliable results.\n",
      "Setting `pad_token_id` to `eos_token_id`:50256 for open-end generation.\n"
     ]
    },
    {
     "name": "stdout",
     "output_type": "stream",
     "text": [
      "Before the session commenced, the committee was asked to consider the following questions:\n",
      "\n",
      "What is the purpose of the committee's investigation?\n",
      "\n",
      "What is the purpose of the committee's investigation?\n",
      "\n",
      "What is the purpose of the committee's investigation\n"
     ]
    }
   ],
   "source": [
    "prefix_text_full = \"\"\"Before the session commenced, the Shinde faction sealed the legislative party office \n",
    "                 in the Vidhan Bhavan. A paper was stuck with a plastic tape \n",
    "                 on the closed doors of the Sena legislative party office\"\"\"\n",
    "prefix_text = \"\"\"Before the session commenced\"\"\"\n",
    "\n",
    "\n",
    "generated_text= text_generation(prefix_text, max_length=50, do_sample=False)[0]\n",
    "print(generated_text['generated_text'])"
   ]
  },
  {
   "cell_type": "code",
   "execution_count": 18,
   "metadata": {},
   "outputs": [
    {
     "name": "stderr",
     "output_type": "stream",
     "text": [
      "The attention mask and the pad token id were not set. As a consequence, you may observe unexpected behavior. Please pass your input's `attention_mask` to obtain reliable results.\n",
      "Setting `pad_token_id` to `eos_token_id`:50256 for open-end generation.\n"
     ]
    },
    {
     "name": "stdout",
     "output_type": "stream",
     "text": [
      "She was pretty sure that there was vanilla extract (that, she knew, was her family’s power ingredient), \n",
      "                      and she was certain that all of these variables would matter when it came to getting the exact flavor \n",
      "                      and consistency she craved—something you could hold in your mouth savor as it slowly melted away. \n",
      "                      Like a good memory. The supple kind of fudge that wrinkled and cracked like leather. If she could \n",
      "                      lose herself in a moment, she would be able to \n",
      "\n",
      "       \n"
     ]
    }
   ],
   "source": [
    "prefix_text_full = \"\"\"She was pretty sure that there was vanilla extract (that, she knew, was her family’s power ingredient), \n",
    "                      and she was certain that all of these variables would matter when it came to getting the exact flavor \n",
    "                      and consistency she craved—something you could hold in your mouth savor as it slowly melted away. \n",
    "                      Like a good memory. The supple kind of fudge that wrinkled and cracked like leather. If she could \n",
    "                      lose herself in a mouthful, maybe it would smooth over the terrible week.\"\"\"\n",
    "prefix_text = \"\"\"She was pretty sure that there was vanilla extract (that, she knew, was her family’s power ingredient), \n",
    "                      and she was certain that all of these variables would matter when it came to getting the exact flavor \n",
    "                      and consistency she craved—something you could hold in your mouth savor as it slowly melted away. \n",
    "                      Like a good memory. The supple kind of fudge that wrinkled and cracked like leather. If she could \n",
    "                      lose herself in a\"\"\"\n",
    "\n",
    "\n",
    "generated_text= text_generation(prefix_text, max_length=200, do_sample=False)[0]\n",
    "print(generated_text['generated_text'])"
   ]
  },
  {
   "cell_type": "code",
   "execution_count": 44,
   "metadata": {},
   "outputs": [
    {
     "name": "stderr",
     "output_type": "stream",
     "text": [
      "The attention mask and the pad token id were not set. As a consequence, you may observe unexpected behavior. Please pass your input's `attention_mask` to obtain reliable results.\n",
      "Setting `pad_token_id` to `eos_token_id`:50256 for open-end generation.\n"
     ]
    },
    {
     "name": "stdout",
     "output_type": "stream",
     "text": [
      "I am very hungry. but i do not have food. please help me.\n",
      "\n",
      "I am very hungry. but i do not have food.\n"
     ]
    }
   ],
   "source": [
    "prefix_text = \"\"\"I am very hungry. but i do not have food. please\"\"\"\n",
    "\n",
    "\n",
    "generated_text= text_generation(prefix_text, max_length=30, do_sample=False)[0]\n",
    "print(generated_text['generated_text'])"
   ]
  },
  {
   "cell_type": "code",
   "execution_count": 46,
   "metadata": {},
   "outputs": [
    {
     "name": "stderr",
     "output_type": "stream",
     "text": [
      "The attention mask and the pad token id were not set. As a consequence, you may observe unexpected behavior. Please pass your input's `attention_mask` to obtain reliable results.\n",
      "Setting `pad_token_id` to `eos_token_id`:50256 for open-end generation.\n"
     ]
    },
    {
     "name": "stdout",
     "output_type": "stream",
     "text": [
      "It is raining heavily, and the wind is blowing. The rain is coming down on us. We are in a very bad situation. We are in\n"
     ]
    }
   ],
   "source": [
    "prefix_text = \"\"\"It is raining heavily\"\"\"\n",
    "\n",
    "\n",
    "generated_text= text_generation(prefix_text, max_length=30, do_sample=False)[0]\n",
    "print(generated_text['generated_text'])"
   ]
  },
  {
   "cell_type": "code",
   "execution_count": 8,
   "metadata": {},
   "outputs": [
    {
     "name": "stderr",
     "output_type": "stream",
     "text": [
      "The attention mask and the pad token id were not set. As a consequence, you may observe unexpected behavior. Please pass your input's `attention_mask` to obtain reliable results.\n",
      "Setting `pad_token_id` to `eos_token_id`:50256 for open-end generation.\n"
     ]
    },
    {
     "name": "stdout",
     "output_type": "stream",
     "text": [
      "Tomorrow is a holiday, and it's a time of celebration.\n",
      "\n",
      "The first thing you need to do is to get your hands on a copy\n"
     ]
    }
   ],
   "source": [
    "prefix_text = \"\"\"Tomorrow is a holiday\"\"\"\n",
    "\n",
    "generated_text= text_generation(prefix_text, max_length=30, do_sample=False)[0]\n",
    "print(generated_text['generated_text'])"
   ]
  },
  {
   "cell_type": "code",
   "execution_count": 19,
   "metadata": {},
   "outputs": [
    {
     "name": "stderr",
     "output_type": "stream",
     "text": [
      "The attention mask and the pad token id were not set. As a consequence, you may observe unexpected behavior. Please pass your input's `attention_mask` to obtain reliable results.\n",
      "Setting `pad_token_id` to `eos_token_id`:50256 for open-end generation.\n"
     ]
    },
    {
     "name": "stdout",
     "output_type": "stream",
     "text": [
      "Today is world environment day. We should reduce carbon emissions and reduce our dependence on fossil fuels.\n",
      "\n",
      "We should reduce our dependence on fossil fuels.\n"
     ]
    }
   ],
   "source": [
    "prefix_text = \"\"\"Today is world environment day. We should reduce carbon\"\"\"\n",
    "\n",
    "generated_text= text_generation(prefix_text, max_length=30, do_sample=False)[0]\n",
    "print(generated_text['generated_text'])"
   ]
  },
  {
   "cell_type": "code",
   "execution_count": null,
   "metadata": {},
   "outputs": [],
   "source": []
  }
 ],
 "metadata": {
  "kernelspec": {
   "display_name": "Python 3",
   "language": "python",
   "name": "python3"
  },
  "language_info": {
   "codemirror_mode": {
    "name": "ipython",
    "version": 3
   },
   "file_extension": ".py",
   "mimetype": "text/x-python",
   "name": "python",
   "nbconvert_exporter": "python",
   "pygments_lexer": "ipython3",
   "version": "3.7.8"
  }
 },
 "nbformat": 4,
 "nbformat_minor": 4
}
